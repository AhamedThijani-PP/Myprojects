{
 "cells": [
  {
   "cell_type": "code",
   "execution_count": 1,
   "metadata": {},
   "outputs": [],
   "source": [
    "import numpy as np\n",
    "import math"
   ]
  },
  {
   "cell_type": "code",
   "execution_count": 2,
   "metadata": {},
   "outputs": [],
   "source": [
    "input_dim=2\n",
    "map_size=(5,5)\n",
    "learning_rate=0.5\n",
    "sigma=max(map_size)/2\n",
    "num_iteration=1000"
   ]
  },
  {
   "cell_type": "code",
   "execution_count": 3,
   "metadata": {},
   "outputs": [],
   "source": [
    "def initialize_weights(map_size,input_dim):\n",
    "    return np.random.rand(map_size[0],map_size[1],input_dim)"
   ]
  },
  {
   "cell_type": "code",
   "execution_count": 4,
   "metadata": {},
   "outputs": [],
   "source": [
    "def euclidean_distance(vec1,vec2):\n",
    "    return np.linalg.norm(vec1-vec2)"
   ]
  },
  {
   "cell_type": "code",
   "execution_count": 5,
   "metadata": {},
   "outputs": [],
   "source": [
    "def find_bmu(weights,input_vector):\n",
    "    min_dist=float('inf')\n",
    "    bmu_idx=(0,0)\n",
    "    for i in range(weights.shape[0]):\n",
    "        for j in range(weights.shape[1]):\n",
    "            dist=euclidean_distance(weights[i,j],input_vector)\n",
    "            if dist<min_dist:\n",
    "                min_dist=dist\n",
    "                bmu_idx=(i,j)\n",
    "    return bmu_idx"
   ]
  },
  {
   "cell_type": "code",
   "execution_count": 6,
   "metadata": {},
   "outputs": [],
   "source": [
    "def update_weights(weights,input_vector,bmu_idx,iteration,num_iterations,learning_rate,sigma):\n",
    "    lr=learning_rate*(1-iteration/num_iterations)\n",
    "    sig=sigma*(1-iteration/num_iterations)\n",
    "    for i in range(weights.shape[0]):\n",
    "        for j in range(weights.shape[1]):\n",
    "            dist_to_bmu=euclidean_distance(np.array([i,j]),np.array(bmu_idx))\n",
    "            influence=math.exp(-dist_to_bmu**2/(2*sig**2)) if sig > 0 else 0\n",
    "            weights[i,j]+=lr*influence*(input_vector-weights[i,j])"
   ]
  },
  {
   "cell_type": "code",
   "execution_count": 8,
   "metadata": {},
   "outputs": [],
   "source": [
    "np.random.seed(42)\n",
    "data=np.random.rand(100,input_dim)"
   ]
  },
  {
   "cell_type": "code",
   "execution_count": 9,
   "metadata": {},
   "outputs": [],
   "source": [
    "weights=initialize_weights(map_size,input_dim)"
   ]
  },
  {
   "cell_type": "code",
   "execution_count": 11,
   "metadata": {},
   "outputs": [],
   "source": [
    "for iteration in range(num_iteration):\n",
    "    input_vector=data[np.random.randint(0,len(data))]\n",
    "    bmu_idx=find_bmu(weights,input_vector)\n",
    "    update_weights(weights,input_vector,bmu_idx,iteration,num_iteration,learning_rate,sigma)"
   ]
  },
  {
   "cell_type": "code",
   "execution_count": 12,
   "metadata": {},
   "outputs": [
    {
     "name": "stdout",
     "output_type": "stream",
     "text": [
      "Training Complete. Final weight matrix:\n",
      "[[[0.06911067 0.8891252 ]\n",
      "  [0.08891785 0.6973514 ]\n",
      "  [0.15167536 0.511875  ]\n",
      "  [0.13601851 0.30787052]\n",
      "  [0.15263778 0.1766668 ]]\n",
      "\n",
      " [[0.26397046 0.89202459]\n",
      "  [0.26662598 0.6748733 ]\n",
      "  [0.27536604 0.49428127]\n",
      "  [0.29989858 0.29867383]\n",
      "  [0.30364158 0.12295931]]\n",
      "\n",
      " [[0.51165396 0.80459907]\n",
      "  [0.54676685 0.69427739]\n",
      "  [0.49072331 0.47795606]\n",
      "  [0.46850006 0.28046495]\n",
      "  [0.44519142 0.18170196]]\n",
      "\n",
      " [[0.78847623 0.80778239]\n",
      "  [0.72897406 0.70099813]\n",
      "  [0.69969875 0.53688319]\n",
      "  [0.66259183 0.3214137 ]\n",
      "  [0.64563024 0.1303303 ]]\n",
      "\n",
      " [[0.91881107 0.81169544]\n",
      "  [0.86326146 0.66024797]\n",
      "  [0.836292   0.53552777]\n",
      "  [0.84927399 0.33253933]\n",
      "  [0.86946388 0.19965146]]]\n"
     ]
    }
   ],
   "source": [
    "print(\"Training Complete. Final weight matrix:\")\n",
    "print(weights)"
   ]
  },
  {
   "cell_type": "code",
   "execution_count": 16,
   "metadata": {},
   "outputs": [
    {
     "name": "stdout",
     "output_type": "stream",
     "text": [
      "3.8.4\n"
     ]
    }
   ],
   "source": [
    "import  as plt\n",
    "print(plt.__version__)\n"
   ]
  },
  {
   "cell_type": "code",
   "execution_count": null,
   "metadata": {},
   "outputs": [],
   "source": []
  }
 ],
 "metadata": {
  "kernelspec": {
   "display_name": "Python 3",
   "language": "python",
   "name": "python3"
  },
  "language_info": {
   "codemirror_mode": {
    "name": "ipython",
    "version": 3
   },
   "file_extension": ".py",
   "mimetype": "text/x-python",
   "name": "python",
   "nbconvert_exporter": "python",
   "pygments_lexer": "ipython3",
   "version": "3.12.4"
  }
 },
 "nbformat": 4,
 "nbformat_minor": 2
}
